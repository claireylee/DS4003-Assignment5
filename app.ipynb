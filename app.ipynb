{
 "cells": [
  {
   "cell_type": "markdown",
   "metadata": {},
   "source": [
    "### Assignment #4: Basic UI\n",
    "\n",
    "DS4003 | Spring 2024\n",
    "\n",
    "Objective: Practice buidling basic UI components in Dash. \n",
    "\n",
    "Task: Build an app that contains the following components user the gapminder dataset: `gdp_pcap.csv`. [Info](https://www.gapminder.org/gdp-per-capita/)\n",
    "\n",
    "UI Components:\n",
    "A dropdown menu that allows the user to select `country`\n",
    "-   The dropdown should allow the user to select multiple countries\n",
    "-   The options should populate from the dataset (not be hard-coded)\n",
    "A slider that allows the user to select `year`\n",
    "-   The slider should allow the user to select a range of years\n",
    "-   The range should be from the minimum year in the dataset to the maximum year in the dataset\n",
    "A graph that displays the `gdpPercap` for the selected countries over the selected years\n",
    "-   The graph should display the gdpPercap for each country as a line\n",
    "-   Each country should have a unique color\n",
    "-   Graph DOES NOT need to interact with dropdown or slider\n",
    "-   The graph should have a title and axis labels in reader friendly format  \n",
    "\n",
    "Layout:  \n",
    "- Use a stylesheet\n",
    "- There should be a title at the top of the page\n",
    "- There should be a description of the data and app below the title (3-5 sentences)\n",
    "- The dropdown and slider should be side by side above the graph and take up the full width of the page\n",
    "- The graph should be below the dropdown and slider and take up the full width of the page\n",
    "\n",
    "Submission: \n",
    "- There should be only one app in your submitted work\n",
    "- Comment your code\n",
    "- Submit the html file of the notebook save as `DS4003_A4_LastName.html`\n",
    "\n",
    "\n",
    "**For help you may use the web resources and pandas documentation. No co-pilot or ChatGPT.**"
   ]
  },
  {
   "cell_type": "code",
   "execution_count": 175,
   "metadata": {},
   "outputs": [],
   "source": [
    "# import dependencies\n",
    "import dash\n",
    "from dash import Dash, dcc, html, Input, Output, callback\n",
    "import pandas as pd"
   ]
  },
  {
   "cell_type": "code",
   "execution_count": 176,
   "metadata": {},
   "outputs": [],
   "source": [
    "# load the dataset\n",
    "df = pd.read_csv(\"gdp_pcap.csv\")"
   ]
  },
  {
   "cell_type": "code",
   "execution_count": 177,
   "metadata": {},
   "outputs": [],
   "source": [
    "# reshape dataframe \n",
    "melted_df = df.melt(id_vars=['country'], var_name = 'year', value_name = 'gdpPercap')\n",
    "melted_df['year'] = pd.to_numeric(melted_df['year']) #year to numeric\n",
    " # makes this so that there is a year and gdp calculated column"
   ]
  },
  {
   "cell_type": "code",
   "execution_count": 178,
   "metadata": {},
   "outputs": [],
   "source": [
    "# initialize the dash app\n",
    "external_stylesheets = ['https://codepen.io/chriddyp/pen/bWLwgP.css']\n",
    "app = Dash(__name__, external_stylesheets=external_stylesheets)"
   ]
  },
  {
   "cell_type": "code",
   "execution_count": 179,
   "metadata": {},
   "outputs": [
    {
     "data": {
      "text/html": [
       "\n",
       "        <iframe\n",
       "            width=\"100%\"\n",
       "            height=\"650\"\n",
       "            src=\"http://127.0.0.1:8050/\"\n",
       "            frameborder=\"0\"\n",
       "            allowfullscreen\n",
       "            \n",
       "        ></iframe>\n",
       "        "
      ],
      "text/plain": [
       "<IPython.lib.display.IFrame at 0x146f51c70>"
      ]
     },
     "metadata": {},
     "output_type": "display_data"
    }
   ],
   "source": [
    "# Define the layout of the app\n",
    "app.layout = html.Div([\n",
    "    html.H1(children=\"Gapminder GDP Per Capita Explorer\"), #title\n",
    "    html.P(\"Explore GDP per capita data from the Gapminder dataset. Use the slider to select the years. Use the drop down menu to select the countries you want to look at\"), #description\n",
    "    html.Div([\n",
    "        # Dropdown menu for selecting countries\n",
    "        dcc.Dropdown(\n",
    "            id='country-dropdown',\n",
    "            options=[{'label': country, 'value': country} for country in melted_df['country'].unique()],# make sure countries are not repeated \n",
    "            multi=True,\n",
    "            value=['Afghanistan']  # Default selected countries, otherwise presents an error\n",
    "        ),\n",
    "        html.Label(\"slide for year\"), #label \n",
    "        # Slider for selecting years\n",
    "        dcc.RangeSlider(\n",
    "            id='year-slider',\n",
    "            min=melted_df['year'].min(), # minimum year value\n",
    "            max=melted_df['year'].max(), # maximum year value \n",
    "            step = 1,\n",
    "            value=[melted_df['year'].min(), melted_df['year'].max()], # default\n",
    "            marks={year: str(year) for year in range(melted_df['year'].min(), melted_df['year'].max() + 1, 100)},\n",
    "            tooltip = {\"placement\":\"bottom\", \"always_visible\":True},\n",
    "        )\n",
    "    ]),\n",
    "    \n",
    "    # Graph for displaying GDP per capita, line \n",
    "    dcc.Graph(id='gdp-per-capita-graph')\n",
    "]) \n",
    "\n",
    "# Define callback to update graph based on user inputs\n",
    "@app.callback(\n",
    "    Output('gdp-per-capita-graph', 'figure'),\n",
    "    [Input('country-dropdown', 'value'),\n",
    "     Input('year-slider', 'value')]\n",
    ")\n",
    "def update_graph(selected_countries, selected_years):\n",
    "    # Filter data based on selected countries and years\n",
    "    filtered_df = melted_df[(melted_df['country'].isin(selected_countries)) & \n",
    "                            (melted_df['year'].astype(int).between(selected_years[0], selected_years[1]))]\n",
    "    sorted_df = filtered_df.sort_values(by=['year', 'gdpPercap'])\n",
    "    # Create traces for each selected country\n",
    "    traces = []\n",
    "    for country in selected_countries:\n",
    "        country_data =filtered_df[filtered_df['country'] == country]\n",
    "        traces.append(dict(\n",
    "            x=country_data['year'],\n",
    "            y=country_data['gdpPercap'],\n",
    "            mode='lines',\n",
    "            name=country\n",
    "        ))\n",
    "\n",
    "    # Define layout for the graph\n",
    "    layout = dict(\n",
    "        title='GDP Per Capita Over Time',\n",
    "        xaxis={'title': 'Year'},\n",
    "        yaxis={'title': 'GDP Per Capita'}\n",
    "    )\n",
    "\n",
    "    return {'data': traces, 'layout': layout}\n",
    "\n",
    "if __name__ == '__main__':\n",
    "    app.run_server(debug=True)\n"
   ]
  }
 ],
 "metadata": {
  "kernelspec": {
   "display_name": "ds4003",
   "language": "python",
   "name": "python3"
  },
  "language_info": {
   "codemirror_mode": {
    "name": "ipython",
    "version": 3
   },
   "file_extension": ".py",
   "mimetype": "text/x-python",
   "name": "python",
   "nbconvert_exporter": "python",
   "pygments_lexer": "ipython3",
   "version": "3.8.18"
  }
 },
 "nbformat": 4,
 "nbformat_minor": 2
}
